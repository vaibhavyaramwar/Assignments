{
 "cells": [
  {
   "cell_type": "markdown",
   "metadata": {},
   "source": [
    "==========================================================================================================================\n",
    "\n",
    "1.What are the two values of the Boolean data type? How do you write them?\n",
    "\n",
    "    Boolean Datatype values are True and False and we could write them as below : \n",
    "    \n",
    "    a = True\n",
    "    b = False\n",
    "\n",
    "=========================================================================================================================="
   ]
  },
  {
   "cell_type": "markdown",
   "metadata": {},
   "source": [
    "===========================================================================================================================\n",
    "\n",
    "2. What are the three different types of Boolean operators?\n",
    "\n",
    "   The Boolean Operators are\n",
    "           \n",
    "           1. > (Greter Than) \n",
    "           2. < (Lesser Than)  \n",
    "           3. == (Equals)\n",
    "   \n",
    "   Example :\n",
    "   \n",
    "           3 > 2  -- returns True\n",
    "           3 < 1  -- returns False\n",
    "           3 == 3 -- return True\n",
    "\n",
    "==========================================================================================================================="
   ]
  },
  {
   "cell_type": "markdown",
   "metadata": {},
   "source": [
    "===========================================================================================================================\n",
    "\n",
    "3. Make a list of each Boolean operator's truth tables (i.e. every possible combination of Boolean\n",
    "values for the operator and what it evaluate ).\n",
    "\n",
    "\n",
    "         \n",
    "          condition 1  condition 2  Not X   X AND Y    X OR Y\n",
    "          (e.g., X)    (e.g., Y)    (~X)    (X && Y)   (X || Y)\n",
    "            false\t   false\t    true\tfalse\t    false\n",
    "            false\t   true         true\t  false\t    true\n",
    "            true\t   false\t    false\tfalse\t    true\n",
    "            true\t   true         false\ttrue\t    true\n",
    "\n",
    "\n",
    "==========================================================================================================================="
   ]
  },
  {
   "cell_type": "markdown",
   "metadata": {},
   "source": [
    "===========================================================================================================================\n",
    "\n",
    "4. What are the values of the following expressions?\n",
    "  \n",
    "     (5 > 4) and (3 == 5) Answer is False\n",
    "     \n",
    "     not (5 > 4) Answer is False\n",
    "     \n",
    "     (5 > 4) or (3 == 5) Answer is True\n",
    "     \n",
    "     not ((5 > 4) or (3 == 5)) Answer is False\n",
    "     \n",
    "     (True and True) and (True == False)  Answer is False\n",
    "     \n",
    "     (not False) or (not True) Answer is True\n",
    "\n",
    "==========================================================================================================================="
   ]
  },
  {
   "cell_type": "markdown",
   "metadata": {},
   "source": [
    "===========================================================================================================================\n",
    "\n",
    "5. What are the six comparison operators?\n",
    "\n",
    "         > : Greater Than\n",
    "         < : Lesser Than \n",
    "         >= : Greater Than or Equal to\n",
    "         <= : Lesser Than or Equal to\n",
    "         == : Equal To\n",
    "         != : Not Equal To\n",
    "         \n",
    "==========================================================================================================================="
   ]
  },
  {
   "cell_type": "markdown",
   "metadata": {},
   "source": [
    "===========================================================================================================================\n",
    "\n",
    "6. How do you tell the difference between the equal to and assignment operators?Describe a\n",
    "condition and when you would use one.\n",
    "\n",
    "\n",
    "    Equal Assignment Operator(=) : Equal usually used for assignment operation like we assign some \n",
    "                                    value to variable then we can use Equal\n",
    "\n",
    "    EqualTo (==) : This is used for comparison , when we want to compare values we could use equalto\n",
    "        \n",
    "        \n",
    "    Example : \n",
    "        \n",
    "        1. Assignment Operator :\n",
    "            \n",
    "            a = 5\n",
    "        \n",
    "        2. Equal To\n",
    "        \n",
    "            5==5\n",
    "\n",
    "==========================================================================================================================="
   ]
  },
  {
   "cell_type": "markdown",
   "metadata": {},
   "source": [
    "===========================================================================================================================\n",
    "\n",
    "7. Identify the three blocks in this code:\n",
    "    \n",
    "    spam = 0\n",
    "    \n",
    "    #### This is First Block\n",
    "    if spam == 10: \n",
    "        print('eggs')\n",
    "    #### This is Second Block    \n",
    "    if spam > 5: \n",
    "        print('bacon')\n",
    "    #### This is Third Block    \n",
    "    else: \n",
    "        print('ham')\n",
    "        print('spam')\n",
    "        print('spam')\n",
    "\n",
    "==========================================================================================================================="
   ]
  },
  {
   "cell_type": "markdown",
   "metadata": {},
   "source": [
    "===========================================================================================================================\n",
    "\n",
    "8. Write code that prints Hello if 1 is stored in spam, prints Howdy if 2 is stored in spam, and prints\n",
    "Greetings! if anything else is stored in spam.\n",
    "\n",
    "Please refer below line for program\n",
    "\n",
    "==========================================================================================================================="
   ]
  },
  {
   "cell_type": "code",
   "execution_count": 36,
   "metadata": {},
   "outputs": [
    {
     "name": "stdout",
     "output_type": "stream",
     "text": [
      "1\n",
      "Hello\n"
     ]
    }
   ],
   "source": [
    "try:\n",
    "    spam = int(input())\n",
    "    \n",
    "    if spam == 1:\n",
    "        print(\"Hello\")\n",
    "    elif spam == 2:\n",
    "        print(\"Howdy\")\n",
    "    else:\n",
    "        print(\"Greetings!\")\n",
    "    \n",
    "except Exception as e:\n",
    "    print(e)\n"
   ]
  },
  {
   "cell_type": "markdown",
   "metadata": {},
   "source": [
    "===========================================================================================================================\n",
    "\n",
    "9. If your programme is stuck in an endless loop, what keys you’ll press?\n",
    "\n",
    "    If program stuck inside endless loop then press Esc+ii\n",
    "    \n",
    "==========================================================================================================================="
   ]
  },
  {
   "cell_type": "markdown",
   "metadata": {},
   "source": [
    "10. How can you tell the difference between break and continue?\n",
    "\n",
    "    break : If we want to stop the iteration of loop due to some condition then we can use the break statment\n",
    "            which will break the loop\n",
    "            \n",
    "    continue : on some condition if we dont want to perform any task and wants the loop iteration should get continue \n",
    "                then we can use continue\n",
    "\n",
    "    Refer the program given in next tab , where we are executing while loop and Incrementing the counter\n",
    "    when counter is less than 4 loop will continue its iteration and when counter becomes 4 loop iteration breaks and stops execution"
   ]
  },
  {
   "cell_type": "code",
   "execution_count": 25,
   "metadata": {},
   "outputs": [
    {
     "name": "stdout",
     "output_type": "stream",
     "text": [
      "Continue Loop\n",
      "Continue Loop\n",
      "Continue Loop\n",
      "Break the Loop\n"
     ]
    }
   ],
   "source": [
    "counter = 0\n",
    "\n",
    "while True:\n",
    "    \n",
    "    counter=counter+1\n",
    "    \n",
    "    if counter == 4:\n",
    "        print(\"Break the Loop\")\n",
    "        break\n",
    "    else:\n",
    "        print(\"Continue Loop\")\n",
    "        continue\n",
    "        \n",
    "    "
   ]
  },
  {
   "cell_type": "markdown",
   "metadata": {},
   "source": [
    "===========================================================================================================================\n",
    "\n",
    "11. In a for loop, what is the difference between range(10), range(0, 10), and range(0, 10, 1)?\n",
    "\n",
    "    The meaning of all the above expressions are same which suggest that start iterating the loop \n",
    "    from 0 to 10 and exclude 10 with step size or with jump of 1\n",
    "    \n",
    " ==========================================================================================================================="
   ]
  },
  {
   "cell_type": "markdown",
   "metadata": {},
   "source": [
    "===========================================================================================================================\n",
    "\n",
    "12. Write a short program that prints the numbers 1 to 10 using a for loop. Then write an equivalent\n",
    "    program that prints the numbers 1 to 10 using a while loop.\n",
    "    \n",
    "    Please refer below tabs\n",
    "\n",
    "==========================================================================================================================="
   ]
  },
  {
   "cell_type": "code",
   "execution_count": 33,
   "metadata": {},
   "outputs": [
    {
     "name": "stdout",
     "output_type": "stream",
     "text": [
      "1\n",
      "2\n",
      "3\n",
      "4\n",
      "5\n",
      "6\n",
      "7\n",
      "8\n",
      "9\n",
      "10\n"
     ]
    }
   ],
   "source": [
    "for i in range(1,11):\n",
    "    print(i)"
   ]
  },
  {
   "cell_type": "code",
   "execution_count": 34,
   "metadata": {},
   "outputs": [
    {
     "name": "stdout",
     "output_type": "stream",
     "text": [
      "1\n",
      "2\n",
      "3\n",
      "4\n",
      "5\n",
      "6\n",
      "7\n",
      "8\n",
      "9\n",
      "10\n"
     ]
    }
   ],
   "source": [
    "i = 0\n",
    "\n",
    "while i < 10:\n",
    "    i = i+1\n",
    "    print(i)"
   ]
  },
  {
   "cell_type": "markdown",
   "metadata": {},
   "source": [
    "===========================================================================================================================\n",
    "\n",
    "13. If you had a function named bacon() inside a module named spam, how would you call it after\n",
    "importing spam?\n",
    "\n",
    "In this case first we need to import spam module as below and then we could call it as spam.bacon()\n",
    "\n",
    "    import spam\n",
    "    spam.bacon()\n",
    "\n",
    "==========================================================================================================================="
   ]
  },
  {
   "cell_type": "code",
   "execution_count": null,
   "metadata": {},
   "outputs": [],
   "source": []
  },
  {
   "cell_type": "code",
   "execution_count": null,
   "metadata": {},
   "outputs": [],
   "source": []
  }
 ],
 "metadata": {
  "kernelspec": {
   "display_name": "Python 3",
   "language": "python",
   "name": "python3"
  },
  "language_info": {
   "codemirror_mode": {
    "name": "ipython",
    "version": 3
   },
   "file_extension": ".py",
   "mimetype": "text/x-python",
   "name": "python",
   "nbconvert_exporter": "python",
   "pygments_lexer": "ipython3",
   "version": "3.8.3"
  }
 },
 "nbformat": 4,
 "nbformat_minor": 4
}

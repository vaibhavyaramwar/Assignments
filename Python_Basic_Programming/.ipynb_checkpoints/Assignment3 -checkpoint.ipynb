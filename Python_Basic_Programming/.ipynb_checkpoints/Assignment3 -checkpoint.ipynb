{
 "cells": [
  {
   "cell_type": "markdown",
   "metadata": {},
   "source": [
    "==========================================================================================================================\n",
    "\n",
    "1. Why are functions advantageous to have in your programs?\n",
    "\n",
    "\n",
    "    1. Code Reusability : Function Supports Modularized Code Approch ,It means for each functionality we could write a\n",
    "                          Seprate Function and use it any where , Hence it supports a Principal of Write Ones \n",
    "                          And Read Every Where ,means we could reuse the code ones written\n",
    "    \n",
    "    2. Less Maintainable : As Application code becomes modularized whenever any functional or technical issue happens \n",
    "                           we could directly start debugging respective functionality and do changes \n",
    "                           for that with out impacting the whole application\n",
    "    \n",
    "    3. Decrese The Complexity : As code is written in modulzried way for eavh and every functionality \n",
    "                                ultimately we have devided the code in chunks of functionality so it minimises Complexity\n",
    "                                \n",
    "    4. Remove Redundancy : As ones function is written we could use it any where hence it removed \n",
    "                           Redundancy or duplication of code\n",
    "                           \n",
    "\n",
    "=========================================================================================================================="
   ]
  },
  {
   "cell_type": "markdown",
   "metadata": {},
   "source": [
    "==========================================================================================================================\n",
    "\n",
    "2. When does the code in a function run: when it's specified or when it's called?\n",
    "\n",
    "\n",
    "    1. When the code in function is specified it means we have written or implemented business functionality \n",
    "       as per the specification given to us\n",
    "       \n",
    "    2. But if we want to execute or wants outcome of function then we need to call the function\n",
    "    \n",
    "    3. Hence the code of a function gets run when we called it\n",
    "\n",
    "=========================================================================================================================="
   ]
  },
  {
   "cell_type": "markdown",
   "metadata": {},
   "source": [
    "==========================================================================================================================\n",
    "\n",
    "3. What statement creates a function?\n",
    "\n",
    "    Functions in python gets created by 2 ways :\n",
    "    \n",
    "    By using def key word and by using lambda functions\n",
    "    \n",
    "    The syntax are as below : \n",
    "    \n",
    "    \n",
    "    1. def : \n",
    "    \n",
    "           def functionName(arguments):\n",
    "               statments\n",
    "               return // optional\n",
    "\n",
    "    2. lambda :\n",
    "    \n",
    "        variable = lambda arguments : Expression\n",
    "\n",
    "=========================================================================================================================="
   ]
  },
  {
   "cell_type": "markdown",
   "metadata": {},
   "source": [
    "==========================================================================================================================\n",
    "\n",
    "4. What is the difference between a function and a function call?\n",
    "\n",
    "        1 A function is a piece of code which enhanced the reusability and modularity of your program. \n",
    "        2. It means that piece of code need not be written again.\n",
    "        3. A function call means invoking or calling that function. Unless a function is called \n",
    "           there is no use of that function.\n",
    "\n",
    "=========================================================================================================================="
   ]
  },
  {
   "cell_type": "markdown",
   "metadata": {},
   "source": [
    "==========================================================================================================================\n",
    "\n",
    "5. How many global scopes are there in a Python program? How many local scopes?\n",
    "\n",
    "        \n",
    "        1. There is only one Global Scope Available in Python\n",
    "        2. A variable created in the main body of the Python code is a global variable and belongs to the global scope.\n",
    "        3. Global variables are available from within any scope, global and local.\n",
    "        \n",
    "        4. Local scope is a characteristic of variables that makes them local \n",
    "        (i.e., the variable name is only bound to its value within a scope which is not the global scope).\n",
    "\n",
    "=========================================================================================================================="
   ]
  },
  {
   "cell_type": "markdown",
   "metadata": {},
   "source": [
    "==========================================================================================================================\n",
    "\n",
    "6. What happens to variables in a local scope when the function call returns?\n",
    "\n",
    "        1. When Function Completes its execution and returns the value post that local variables gets destroy from memory\n",
    "        2. It means ones value returned by function , local variable are not available in our program for further use\n",
    "\n",
    "=========================================================================================================================="
   ]
  },
  {
   "cell_type": "markdown",
   "metadata": {},
   "source": [
    "==========================================================================================================================\n",
    "\n",
    "7. What is the concept of a return value? Is it possible to have a return value in an expression?\n",
    "\n",
    "    1. Whenever function completes its execution and if caller of a function expects \n",
    "       some kind of output from function in that case function returns output to caller by using return statment\n",
    "\n",
    "    2. Yes we could pass return value in an expression\n",
    "\n",
    "=========================================================================================================================="
   ]
  },
  {
   "cell_type": "markdown",
   "metadata": {},
   "source": [
    "==========================================================================================================================\n",
    "\n",
    "8. If a function does not have a return statement, what is the return value of a call to that function?\n",
    "\n",
    "        1. If function does not have return statment in that case return value from function would be None\n",
    "        2. The None value is having Type NoneType\n",
    "\n",
    "=========================================================================================================================="
   ]
  },
  {
   "cell_type": "markdown",
   "metadata": {},
   "source": [
    "==========================================================================================================================\n",
    "\n",
    "9. How do you make a function variable refer to the global variable?\n",
    "\n",
    "    If we want to refer global variable inside function then we could use global keyword for a variable inside function\n",
    "    \n",
    "    Refer below tab for example of a function which is refeering to global variable inside the function\n",
    "    \n",
    "=========================================================================================================================="
   ]
  },
  {
   "cell_type": "code",
   "execution_count": 21,
   "metadata": {},
   "outputs": [
    {
     "name": "stdout",
     "output_type": "stream",
     "text": [
      "Value of a inside function :  2\n",
      "Value of a outside function :  2\n"
     ]
    }
   ],
   "source": [
    "a = 1\n",
    "\n",
    "def testGlobal():\n",
    "    global a\n",
    "    a = 2\n",
    "    print(\"Value of a inside function : \",a)\n",
    "    \n",
    "testGlobal()\n",
    "print(\"Value of a outside function : \",a)"
   ]
  },
  {
   "cell_type": "markdown",
   "metadata": {},
   "source": [
    "==========================================================================================================================\n",
    "10. What is the data type of None?\n",
    "\n",
    "        1. The Datatype of None is NoneType\n",
    "\n",
    "=========================================================================================================================="
   ]
  },
  {
   "cell_type": "markdown",
   "metadata": {},
   "source": [
    "==========================================================================================================================\n",
    "\n",
    "11. What does the sentence import areallyourpetsnamederic do?\n",
    "\n",
    "        1. The Import statment import the areallyourpetsnamederic in current module or file \n",
    "           so that we could use functions written inside the package areallyourpetsnamederic in our implementation\n",
    "=========================================================================================================================="
   ]
  },
  {
   "cell_type": "markdown",
   "metadata": {},
   "source": [
    "==========================================================================================================================\n",
    "\n",
    "12. If you had a bacon() feature in a spam module, what would you call it after importing spam?\n",
    "\n",
    "\n",
    "        1. if bacon() is a function inside spam module and we need to use it in our module then we could write it as below\n",
    "    \n",
    "    \n",
    "            import spam\n",
    "            spam.bacon()\n",
    "\n",
    "=========================================================================================================================="
   ]
  },
  {
   "cell_type": "markdown",
   "metadata": {},
   "source": [
    "==========================================================================================================================\n",
    "\n",
    "13. What can you do to save a programme from crashing if it encounters an error?\n",
    "\n",
    "        `1. If we want a program to save from crashing when errors occurs then we need to handle Exception in our program\n",
    "         2. We need to use try and except block to handle the errors in our program \n",
    "        \n",
    "=========================================================================================================================="
   ]
  },
  {
   "cell_type": "markdown",
   "metadata": {},
   "source": [
    "==========================================================================================================================\n",
    "\n",
    "14. What is the purpose of the try clause? What is the purpose of the except clause?\n",
    "    \n",
    "        1. The try block lets you test a block of code for errors. \n",
    "        2. The except block lets you handle the error.\n",
    "\n",
    "=========================================================================================================================="
   ]
  },
  {
   "cell_type": "code",
   "execution_count": null,
   "metadata": {},
   "outputs": [],
   "source": []
  },
  {
   "cell_type": "code",
   "execution_count": null,
   "metadata": {},
   "outputs": [],
   "source": []
  }
 ],
 "metadata": {
  "kernelspec": {
   "display_name": "Python 3",
   "language": "python",
   "name": "python3"
  },
  "language_info": {
   "codemirror_mode": {
    "name": "ipython",
    "version": 3
   },
   "file_extension": ".py",
   "mimetype": "text/x-python",
   "name": "python",
   "nbconvert_exporter": "python",
   "pygments_lexer": "ipython3",
   "version": "3.8.3"
  }
 },
 "nbformat": 4,
 "nbformat_minor": 4
}

{
 "cells": [
  {
   "cell_type": "markdown",
   "metadata": {},
   "source": [
    "###########################################################################################################################\n",
    "1. What exactly is []?\n",
    "\n",
    "        1. In python list is denoted by []\n",
    "        2. Whenever we need to create a list object we can use []\n",
    "        3. Example : \n",
    "                Inorder to create the list in Python use below\n",
    "                \n",
    "                l = []\n",
    "\n",
    "###########################################################################################################################"
   ]
  },
  {
   "cell_type": "markdown",
   "metadata": {},
   "source": [
    "###########################################################################################################################\n",
    "\n",
    "2. In a list of values stored in a variable called spam, how would you assign the value 'hello' as the\n",
    "third value? (Assume [2, 4, 6, 8, 10] are in spam.)\n",
    "\n",
    "        1. please refer below tab for answer\n",
    "\n",
    "\n",
    "###########################################################################################################################"
   ]
  },
  {
   "cell_type": "code",
   "execution_count": 4,
   "metadata": {},
   "outputs": [
    {
     "name": "stdout",
     "output_type": "stream",
     "text": [
      "[2, 4, 'hello', 6, 8, 10]\n"
     ]
    }
   ],
   "source": [
    "spam = [2, 4, 6, 8, 10]\n",
    "spam.insert(2,'hello')\n",
    "print(spam)"
   ]
  },
  {
   "cell_type": "markdown",
   "metadata": {},
   "source": [
    "###########################################################################################################################\n",
    "3. What is the value of spam[int(int('3' * 2) / 11)]?\n",
    "\n",
    "        1. For Answer please refer below tab\n",
    "    \n",
    "###########################################################################################################################"
   ]
  },
  {
   "cell_type": "code",
   "execution_count": 14,
   "metadata": {},
   "outputs": [
    {
     "name": "stdout",
     "output_type": "stream",
     "text": [
      "Value at Index :  3  is  d\n"
     ]
    }
   ],
   "source": [
    "spam = ['a','b','c','d']\n",
    "print(\"Value at Index : \",int(int('3' * 2) / 11),\" is \",spam[int(int('3' * 2) / 11)])"
   ]
  },
  {
   "cell_type": "markdown",
   "metadata": {},
   "source": [
    "###########################################################################################################################\n",
    "\n",
    "4. What is the value of spam[-1]?\n",
    "        \n",
    "        1. For Answer please refer below tab\n",
    "\n",
    "###########################################################################################################################"
   ]
  },
  {
   "cell_type": "code",
   "execution_count": 16,
   "metadata": {},
   "outputs": [
    {
     "name": "stdout",
     "output_type": "stream",
     "text": [
      "Value at Index :  -1  is  d\n"
     ]
    }
   ],
   "source": [
    "spam = ['a','b','c','d']\n",
    "print(\"Value at Index : \",-1,\" is \",spam[-1])"
   ]
  },
  {
   "cell_type": "markdown",
   "metadata": {},
   "source": [
    "###########################################################################################################################\n",
    "\n",
    "5. What is the value of spam[:2]?\n",
    "        \n",
    "        1. For Answer please refer below tab\n",
    "\n",
    "###########################################################################################################################"
   ]
  },
  {
   "cell_type": "code",
   "execution_count": 38,
   "metadata": {},
   "outputs": [
    {
     "name": "stdout",
     "output_type": "stream",
     "text": [
      "Output of spam[:2] is :  ['a', 'b']\n"
     ]
    }
   ],
   "source": [
    "spam = ['a','b','c','d']\n",
    "print(\"Output of spam[:2] is : \",spam[:2])"
   ]
  },
  {
   "cell_type": "markdown",
   "metadata": {},
   "source": [
    "###########################################################################################################################\n",
    "6. What is the value of bacon.index('cat')?\n",
    "                                    \n",
    "        1. For Answer please refer below tab\n",
    "        2. The index will provide first index or occurance of 'cat' from bacon\n",
    "        \n",
    "###########################################################################################################################"
   ]
  },
  {
   "cell_type": "code",
   "execution_count": 39,
   "metadata": {},
   "outputs": [
    {
     "name": "stdout",
     "output_type": "stream",
     "text": [
      "Index of cat :  1\n"
     ]
    }
   ],
   "source": [
    "bacon = [3.14, 'cat', 11, 'cat',True]\n",
    "print(\"Index of cat : \",bacon.index('cat'))"
   ]
  },
  {
   "cell_type": "markdown",
   "metadata": {},
   "source": [
    "###########################################################################################################################\n",
    "\n",
    "7. How does bacon.append(99) change the look of the list value in bacon?\n",
    "\n",
    "        1. For Answer please refer below tab\n",
    "        2. The append operation will add the 99 at last index of bacon\n",
    "\n",
    "###########################################################################################################################"
   ]
  },
  {
   "cell_type": "code",
   "execution_count": 40,
   "metadata": {},
   "outputs": [
    {
     "name": "stdout",
     "output_type": "stream",
     "text": [
      "bacon post append :  [3.14, 'cat', 11, 'cat', True, 99]\n"
     ]
    }
   ],
   "source": [
    "bacon.append(99) \n",
    "print(\"bacon post append : \",bacon)"
   ]
  },
  {
   "cell_type": "markdown",
   "metadata": {},
   "source": [
    "###########################################################################################################################\n",
    "\n",
    "8. How does bacon.remove('cat') change the look of the list in bacon?\n",
    "                         \n",
    "        1. For Answer please refer below tab\n",
    "        2. The remove operation will remove first occurance of cat from bacon \n",
    "                         \n",
    "###########################################################################################################################"
   ]
  },
  {
   "cell_type": "code",
   "execution_count": 41,
   "metadata": {},
   "outputs": [
    {
     "name": "stdout",
     "output_type": "stream",
     "text": [
      "bacon after remove cat :  [3.14, 11, 'cat', True, 99]\n"
     ]
    }
   ],
   "source": [
    "bacon.remove('cat') \n",
    "print(\"bacon after remove cat : \",bacon)"
   ]
  },
  {
   "cell_type": "markdown",
   "metadata": {},
   "source": [
    "###########################################################################################################################\n",
    "9. What are the list concatenation and list replication operators?\n",
    "\n",
    "        1. The operator for list concatenation is +, while the operator for replication is *.\n",
    "        2. refer next tab for example\n",
    "\n",
    "###########################################################################################################################"
   ]
  },
  {
   "cell_type": "code",
   "execution_count": 52,
   "metadata": {},
   "outputs": [
    {
     "name": "stdout",
     "output_type": "stream",
     "text": [
      "List Concat :  [1, 2, 3, 4, 5, 6, 1, 2, 3, 4, 5, 6]\n",
      "List Replication :  [1, 2, 3, 4, 5, 6, 1, 2, 3, 4, 5, 6, 1, 2, 3, 4, 5, 6]\n"
     ]
    }
   ],
   "source": [
    "ll = [1,2,3,4,5,6]\n",
    "print(\"List Concat : \",ll+ll)\n",
    "print(\"List Replication : \",ll*3)"
   ]
  },
  {
   "cell_type": "markdown",
   "metadata": {},
   "source": [
    "###########################################################################################################################\n",
    "\n",
    "10. What is difference between the list methods append() and insert()?\n",
    "\n",
    "        1. The append operation will always add new element at last poistion of list\n",
    "        2. The Insert operation will add new element at specific position or index of list\n",
    "        3. refer next tab for example\n",
    "\n",
    "###########################################################################################################################"
   ]
  },
  {
   "cell_type": "code",
   "execution_count": 60,
   "metadata": {},
   "outputs": [
    {
     "name": "stdout",
     "output_type": "stream",
     "text": [
      "list Initially :  [1, 2, 3, 4, 5, 6]\n",
      "Append Example :  [1, 2, 3, 4, 5, 6, 7]\n",
      "Insert Example :  [1, 11, 2, 3, 4, 5, 6, 7]\n"
     ]
    }
   ],
   "source": [
    "l2 = [1,2,3,4,5,6]\n",
    "print(\"list Initially : \",l2)\n",
    "l2.append(7)\n",
    "print(\"Append Example : \",l2)\n",
    "l2.insert(1,11)\n",
    "print(\"Insert Example : \",l2)"
   ]
  },
  {
   "cell_type": "markdown",
   "metadata": {},
   "source": [
    "###########################################################################################################################\n",
    "11. What are the two methods for removing items from a list?\n",
    "\n",
    "    1. We could remove the element from list by below ways : \n",
    "            \n",
    "            1. pop : always remove last element of list\n",
    "            2. remove : removes first occurance of specific element from list\n",
    "            \n",
    "            refer belowexample for pop and remove in next tab\n",
    "    \n",
    "###########################################################################################################################"
   ]
  },
  {
   "cell_type": "code",
   "execution_count": 68,
   "metadata": {},
   "outputs": [
    {
     "name": "stdout",
     "output_type": "stream",
     "text": [
      "List Initially , :  ['a', 'b', 'c', 'd', 'e', 'f', 'g', 'g', 'h']\n",
      "List post pop :  ['a', 'b', 'c', 'd', 'e', 'f', 'g', 'g']\n",
      "List post remove of g :  ['a', 'b', 'c', 'd', 'e', 'f', 'g']\n"
     ]
    }
   ],
   "source": [
    "l3 = ['a','b','c','d','e','f','g','g','h']\n",
    "print(\"List Initially , : \",l3)\n",
    "l3.pop()\n",
    "print(\"List post pop : \",l3)\n",
    "l3.remove('g')\n",
    "print(\"List post remove of g : \",l3)"
   ]
  },
  {
   "cell_type": "markdown",
   "metadata": {},
   "source": [
    "###########################################################################################################################\n",
    "12. Describe how list values and string values are identical.\n",
    "\n",
    "\n",
    "        The values that make up a list are called its elements. Lists are similar to strings, which are ordered collections \n",
    "        of characters, except that the elements of a list can have any type and for any one list, \n",
    "        the items can be of different types.\n",
    "\n",
    "###########################################################################################################################"
   ]
  },
  {
   "cell_type": "markdown",
   "metadata": {},
   "source": [
    "###########################################################################################################################\n",
    "\n",
    "13. What's the difference between tuples and lists?\n",
    "    \n",
    "        Lists : Lists are collection of homogeneous or heterogeneous elements which are ordered \n",
    "                and duplication of elements are allowed , also list is mutable in nature , it means\n",
    "                ones list created with some element we could modify or change the content of list \n",
    "                elements , list is denoted by []\n",
    "        \n",
    "        Tuples : Tuples are collection of homogeneous or heterogeneous elements which are ordered \n",
    "                and duplication of elements are allowed , also tuples are immutable in nature , it means ones\n",
    "                tuples created with some elements we could not modify or change contents of tuples ,\n",
    "                tuples are denoted by ()\n",
    "\n",
    "###########################################################################################################################"
   ]
  },
  {
   "cell_type": "markdown",
   "metadata": {},
   "source": [
    "###########################################################################################################################\n",
    "\n",
    "14. How do you type a tuple value that only contains the integer 42?\n",
    "\n",
    "        Refer below tab example\n",
    "\n",
    "###########################################################################################################################\n",
    "\n"
   ]
  },
  {
   "cell_type": "code",
   "execution_count": 72,
   "metadata": {},
   "outputs": [
    {
     "name": "stdout",
     "output_type": "stream",
     "text": [
      "Tuple Value :  42\n"
     ]
    }
   ],
   "source": [
    "t11 = (42)\n",
    "print(\"Tuple Value : \",t11)"
   ]
  },
  {
   "cell_type": "markdown",
   "metadata": {},
   "source": [
    "###########################################################################################################################\n",
    "\n",
    "15. How do you get a list value's tuple form? How do you get a tuple value's list form?\n",
    "\n",
    "        Refer below tab for Example\n",
    "            \n",
    "###########################################################################################################################"
   ]
  },
  {
   "cell_type": "code",
   "execution_count": 75,
   "metadata": {},
   "outputs": [
    {
     "name": "stdout",
     "output_type": "stream",
     "text": [
      "Initial List :  [1, 2, 3, 4, 5, 6]\n",
      "Conversion of List to Tuple (1, 2, 3, 4, 5, 6)\n",
      "Initial Tuple :  (11, 22, 33, 44, 55, 66)\n",
      "Conversion of Tuple to List [11, 22, 33, 44, 55, 66]\n"
     ]
    }
   ],
   "source": [
    "l11 = [1,2,3,4,5,6]\n",
    "t11=tuple(l11)\n",
    "print(\"Initial List : \",l11)\n",
    "print(\"Conversion of List to Tuple\",t11)\n",
    "\n",
    "t22 = (11,22,33,44,55,66)\n",
    "l22 = list(t22)\n",
    "\n",
    "print(\"Initial Tuple : \",t22)\n",
    "print(\"Conversion of Tuple to List\",l22)"
   ]
  },
  {
   "cell_type": "markdown",
   "metadata": {},
   "source": [
    "###########################################################################################################################\n",
    "\n",
    "16. Variables that \"contain\" list values are not necessarily lists themselves. Instead, what do they\n",
    "contain?\n",
    "\n",
    "        The variable might contains string,integer,complex number ,foloat,tuple,dictionary \n",
    "\n",
    "###########################################################################################################################"
   ]
  },
  {
   "cell_type": "markdown",
   "metadata": {},
   "source": [
    "###########################################################################################################################\n",
    "\n",
    "17. How do you distinguish between copy.copy() and copy.deepcopy()?\n",
    "\n",
    "        1. A shallow copy constructs a new compound object and then (to the extent possible) inserts \n",
    "        references into it to the objects found in the original.\n",
    "        \n",
    "        2. A deep copy constructs a new compound object and then, recursively, \n",
    "        inserts copies into it of the objects found in the original.\n",
    "\n",
    "###########################################################################################################################"
   ]
  },
  {
   "cell_type": "code",
   "execution_count": null,
   "metadata": {},
   "outputs": [],
   "source": []
  },
  {
   "cell_type": "code",
   "execution_count": null,
   "metadata": {},
   "outputs": [],
   "source": []
  }
 ],
 "metadata": {
  "kernelspec": {
   "display_name": "Python 3",
   "language": "python",
   "name": "python3"
  },
  "language_info": {
   "codemirror_mode": {
    "name": "ipython",
    "version": 3
   },
   "file_extension": ".py",
   "mimetype": "text/x-python",
   "name": "python",
   "nbconvert_exporter": "python",
   "pygments_lexer": "ipython3",
   "version": "3.8.3"
  }
 },
 "nbformat": 4,
 "nbformat_minor": 4
}

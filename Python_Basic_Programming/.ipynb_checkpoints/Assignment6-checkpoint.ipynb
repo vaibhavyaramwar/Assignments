{
 "cells": [
  {
   "cell_type": "markdown",
   "metadata": {},
   "source": [
    "===========================================================================================================================\n",
    "1. What are escape characters, and how do you use them?\n",
    "\n",
    "        1. Escape characters represent characters in string values that would otherwise be \n",
    "           difficult or impossible to type into code.\n",
    "\n",
    "==========================================================================================================================="
   ]
  },
  {
   "cell_type": "markdown",
   "metadata": {},
   "source": [
    "===========================================================================================================================\n",
    "\n",
    "2. What do the escape characters n and t stand for?\n",
    "\n",
    "        1. \\n is a newline; \\t is a tab.\n",
    "        \n",
    "==========================================================================================================================="
   ]
  },
  {
   "cell_type": "markdown",
   "metadata": {},
   "source": [
    "===========================================================================================================================\n",
    "\n",
    "3. What is the way to include backslash characters in a string?\n",
    "    \n",
    "        1. The \\\\ escape character will represent a backslash character.\n",
    "    \n",
    "==========================================================================================================================="
   ]
  },
  {
   "cell_type": "markdown",
   "metadata": {},
   "source": [
    "===========================================================================================================================\n",
    "\n",
    "4. The string \"Howl's Moving Castle\" is a correct value. Why isn't the single quote character in the\n",
    "    word Howl's not escaped a problem?\n",
    "\n",
    "        \n",
    "        1. The single quote in Howl's is fine because you’ve used double quotes to mark the \n",
    "            beginning and end of the string.\n",
    "            \n",
    "==========================================================================================================================="
   ]
  },
  {
   "cell_type": "markdown",
   "metadata": {},
   "source": [
    "===========================================================================================================================\n",
    "\n",
    "5. How do you write a string of newlines if you don't want to use the n character?\n",
    "\n",
    "        1. Multiline strings allow you to use newlines in strings without the \\n escape character.\n",
    "\n",
    "            Refer below example\n",
    "        \n",
    "==========================================================================================================================="
   ]
  },
  {
   "cell_type": "code",
   "execution_count": 25,
   "metadata": {},
   "outputs": [
    {
     "name": "stdout",
     "output_type": "stream",
     "text": [
      "\n",
      "\n",
      "This is multi line string\n",
      "This is a second line and \n",
      "its a new line\n",
      "\n"
     ]
    }
   ],
   "source": [
    "ms = '''\n",
    "\n",
    "This is multi line string\n",
    "This is a second line and \n",
    "its a new line\n",
    "'''\n",
    "\n",
    "print(ms)"
   ]
  },
  {
   "cell_type": "markdown",
   "metadata": {},
   "source": [
    "===========================================================================================================================\n",
    "\n",
    "6. What are the values of the given expressions?\n",
    "\n",
    "        refer below tab for answer\n",
    "    \n",
    "==========================================================================================================================="
   ]
  },
  {
   "cell_type": "code",
   "execution_count": 26,
   "metadata": {},
   "outputs": [
    {
     "name": "stdout",
     "output_type": "stream",
     "text": [
      "e\n",
      "Hello\n",
      "Hello\n",
      "lo, world!\n"
     ]
    }
   ],
   "source": [
    "print('Hello, world!'[1])\n",
    "print('Hello, world!'[0:5])\n",
    "print('Hello, world!'[:5])\n",
    "print('Hello, world!'[3:])"
   ]
  },
  {
   "cell_type": "markdown",
   "metadata": {},
   "source": [
    "===========================================================================================================================\n",
    "\n",
    "7. What are the values of the following expressions?\n",
    "    \n",
    "        refer below tab for answer\n",
    "        \n",
    "==========================================================================================================================="
   ]
  },
  {
   "cell_type": "code",
   "execution_count": 27,
   "metadata": {},
   "outputs": [
    {
     "name": "stdout",
     "output_type": "stream",
     "text": [
      "HELLO\n",
      "True\n",
      "hello\n"
     ]
    }
   ],
   "source": [
    "print('Hello'.upper())\n",
    "print('Hello'.upper().isupper())\n",
    "print('Hello'.upper().lower())"
   ]
  },
  {
   "cell_type": "markdown",
   "metadata": {},
   "source": [
    "===========================================================================================================================\n",
    "8. What are the values of the following expressions?\n",
    "\n",
    "        'Remember, remember, the fifth of July.'.split()\n",
    "        '-'.join('There can only one.'.split())\n",
    "    \n",
    "            refer below tab for example\n",
    "\n",
    "==========================================================================================================================="
   ]
  },
  {
   "cell_type": "code",
   "execution_count": 28,
   "metadata": {},
   "outputs": [
    {
     "name": "stdout",
     "output_type": "stream",
     "text": [
      "['Remember,', 'remember,', 'the', 'fifth', 'of', 'July.']\n",
      "There-can-only-one.\n"
     ]
    }
   ],
   "source": [
    "print('Remember, remember, the fifth of July.'.split())\n",
    "print('-'.join('There can only one.'.split()))"
   ]
  },
  {
   "cell_type": "markdown",
   "metadata": {},
   "source": [
    "9. What are the methods for right-justifying, left-justifying, and centering a string?\n",
    "\n",
    "        1. The rjust(), ljust(), and center() string methods, respectively"
   ]
  },
  {
   "cell_type": "markdown",
   "metadata": {},
   "source": [
    "10. What is the best way to remove whitespace characters from the start or end?\n",
    "        \n",
    "    1. The lstrip() and rstrip() methods remove whitespace from the left and right ends of a string, respectively."
   ]
  },
  {
   "cell_type": "code",
   "execution_count": null,
   "metadata": {},
   "outputs": [],
   "source": []
  },
  {
   "cell_type": "code",
   "execution_count": null,
   "metadata": {},
   "outputs": [],
   "source": []
  }
 ],
 "metadata": {
  "kernelspec": {
   "display_name": "Python 3",
   "language": "python",
   "name": "python3"
  },
  "language_info": {
   "codemirror_mode": {
    "name": "ipython",
    "version": 3
   },
   "file_extension": ".py",
   "mimetype": "text/x-python",
   "name": "python",
   "nbconvert_exporter": "python",
   "pygments_lexer": "ipython3",
   "version": "3.8.3"
  }
 },
 "nbformat": 4,
 "nbformat_minor": 4
}

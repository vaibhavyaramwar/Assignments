{
 "cells": [
  {
   "cell_type": "markdown",
   "metadata": {},
   "source": [
    "=========================================================================================================================\n",
    "1. In the below elements which of them are values or an expression? eg:- values can be integer or string and expressions will be mathematical operators.\n",
    "\n",
    "1. '*' : Expression\n",
    "2. 'hello' : Value\n",
    "3. -87.8 :  value\n",
    "4. '-' : Expression\n",
    "5. '/' : Expression\n",
    "6. '+' : Expression\n",
    "7.  6 : Value\n",
    "\n",
    "========================================================================================================================="
   ]
  },
  {
   "cell_type": "markdown",
   "metadata": {},
   "source": [
    "=========================================================================================================================\n",
    "\n",
    "2.\tWhat is the difference between string and variable?\n",
    "\n",
    "String : A string is a Datatype in python which is nothing but sequence of charachters and is denoted by using '' or \"\". \n",
    "String is immutable in nature , meaning ones string is created the value of string could not get changes string support\n",
    "multiple operations like count,endswith,startswith,upper,lower etc example of string is \"vaibhav\"\n",
    "\n",
    "\n",
    "variable:\n",
    "A variable is reference created inside memory for a particular datattype , means if we want particular data to be used again and again in our program we could create reference of that data inside memory or RAM and denote that reference with some name called variable name , ones we restart the kernal\n",
    "the variable gets vanished from memory or reference of variable gets removed from memory\n",
    "Example of of variable is like , if we have datatype as string and value is like \"vaibhav\" now we want to store this value inside memory for further use in our program then we create the variable as\n",
    "name = \"vaibhav\"\n",
    "\n",
    "========================================================================================================================="
   ]
  },
  {
   "cell_type": "markdown",
   "metadata": {},
   "source": [
    "=========================================================================================================================\n",
    "\n",
    "3. Describe three different data types.\n",
    "\n",
    "List : List is collection of Homogenious or Hetrogenious elements and it allows Duplication of elements , The list maintains order of elements and List is Iterable in nature.list is denoted by [] in python.\n",
    "\n",
    "Set :  Set is collection of Homogenious or Hetrogenious elements and it does not allows Duplication of elements , The set do not maintains order of elements and set is Iterable in nature.set is denoted by {} in python.\n",
    "\n",
    "Dict : Dict in python is a key-value pair and is denoted by {} , we could extract the values of specific keys , The duplication of key is not allowed , if we try to specify duplicate key then value of existing key will get override with new value\n",
    "\n",
    "=========================================================================================================================\n"
   ]
  },
  {
   "cell_type": "markdown",
   "metadata": {},
   "source": [
    "=========================================================================================================================\n",
    "\n",
    "4. What is an expression made up of? What do all expressions do?\n",
    "\n",
    "\n",
    "    1. An Expression is Combination of opeartors and operands which is interpreated to create some new value \n",
    "    2. An Expression is made up of with Variables,Operators and method invocations\n",
    "    3. Example of Expression is , if we want to invoke some Aritmatic operation like sume of 2 numbers then , we have variables like a and b which consist value 2 and 3 respectivelly and we need to use operator + to create result of sum which will get stored in other variable c as below\n",
    "    \n",
    "    a = 2\n",
    "    b = 3\n",
    "    c = a+b\n",
    "\n",
    "=========================================================================================================================\n"
   ]
  },
  {
   "cell_type": "markdown",
   "metadata": {},
   "source": [
    "=========================================================================================================================\n",
    "\n",
    "5. This assignment statements, like spam = 10. What is the difference between an\n",
    "expression and a statement?\n",
    "\n",
    "Expression : Expression is a combination of values and function which is used to evaluate some result ,means by executing Expression with some values and operands we could generate some new result\n",
    "\n",
    "Statment : Its a Standalone unit of execution and does not return anything\n",
    "\n",
    "========================================================================================================================="
   ]
  },
  {
   "cell_type": "markdown",
   "metadata": {},
   "source": [
    "=========================================================================================================================\n",
    "\n",
    "6. After running the following code, what does the variable bacon contain?\n",
    "bacon = 22\n",
    "bacon + 1\n",
    "\n",
    "\n",
    "After running the above code the bacon will consist 22 \n",
    "because we have incremented the value of bacon but not stored inside bacon variable hence\n",
    "bacon will persist old value\n",
    "\n",
    "========================================================================================================================="
   ]
  },
  {
   "cell_type": "markdown",
   "metadata": {},
   "source": [
    "=========================================================================================================================\n",
    "\n",
    "7. What should the values of the following two terms be?\n",
    "\n",
    "'spam'+'spamspam'\n",
    "'spam'*3\n",
    "\n",
    "Both the above Expression will return same vale which is 'spamspamspam'\n",
    "\n",
    "========================================================================================================================="
   ]
  },
  {
   "cell_type": "markdown",
   "metadata": {},
   "source": [
    "=========================================================================================================================\n",
    "\n",
    "8. Why is eggs a valid variable name while 100 is invalid?\n",
    "\n",
    "We can not specify the identifier which starts with a number because there are seven phases of compiler as follows.\n",
    "\n",
    "        Lexical Analysis\n",
    "        Syntax Analysis\n",
    "        Semantic Analysis\n",
    "        Intermediate Code Generation\n",
    "        Code Optimization\n",
    "        Code Generation\n",
    "        Symbol Table\n",
    "        \n",
    "None of above supports that a variable starts with a number. This is because the compiler gets confused if is a number or identifier until it reaches an alphabet after the numbers. So the compiler will have to backtrack to the lexical analysis phase which is not supported. The compiler should be able to identify a token as an identifier or a literal after looking at the first character.\n",
    "\n",
    "========================================================================================================================="
   ]
  },
  {
   "cell_type": "markdown",
   "metadata": {},
   "source": [
    "=========================================================================================================================\n",
    "\n",
    "9. What three functions can be used to get the integer, floating-point number, or string\n",
    "version of a value?\n",
    "\n",
    "The Three functions are as below  \n",
    "\n",
    "int()\n",
    "float()\n",
    "str()\n",
    "\n",
    "Example : \n",
    "    \n",
    "a = 3\n",
    "\n",
    "a = str(a)\n",
    "print(a)\n",
    "\n",
    "a = float(a)\n",
    "print(a)\n",
    "\n",
    "a = int(a)\n",
    "print(a)\n",
    "\n",
    "========================================================================================================================="
   ]
  },
  {
   "cell_type": "markdown",
   "metadata": {},
   "source": [
    "=========================================================================================================================\n",
    "\n",
    "10. Why does this expression cause an error? How can you fix it?\n",
    "'I have eaten' + 99 + 'burritos.'\n",
    "\n",
    "The above expression will give type error because concatenation of string with Int value is not allowed\n",
    "\n",
    "If we want to fix the above expression then we need to typecaste 99 to str as below\n",
    "\n",
    "'I have eaten ' + str(99) + ' burritos.'\n",
    "\n",
    "========================================================================================================================="
   ]
  },
  {
   "cell_type": "code",
   "execution_count": null,
   "metadata": {},
   "outputs": [],
   "source": []
  },
  {
   "cell_type": "code",
   "execution_count": null,
   "metadata": {},
   "outputs": [],
   "source": []
  }
 ],
 "metadata": {
  "kernelspec": {
   "display_name": "Python 3",
   "language": "python",
   "name": "python3"
  },
  "language_info": {
   "codemirror_mode": {
    "name": "ipython",
    "version": 3
   },
   "file_extension": ".py",
   "mimetype": "text/x-python",
   "name": "python",
   "nbconvert_exporter": "python",
   "pygments_lexer": "ipython3",
   "version": "3.8.3"
  }
 },
 "nbformat": 4,
 "nbformat_minor": 4
}
